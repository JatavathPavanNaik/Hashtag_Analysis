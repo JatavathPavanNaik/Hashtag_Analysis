{
 "cells": [
  {
   "cell_type": "code",
   "execution_count": 1,
   "metadata": {},
   "outputs": [],
   "source": [
    "import Instagram\n",
    "import Telegram\n",
    "import Youtube"
   ]
  },
  {
   "cell_type": "code",
   "execution_count": null,
   "metadata": {},
   "outputs": [],
   "source": [
    "start_date = '2024-01-16'\n",
    "end_date = '2024-02-01'"
   ]
  },
  {
   "cell_type": "markdown",
   "metadata": {},
   "source": [
    "#### Telegram"
   ]
  },
  {
   "cell_type": "code",
   "execution_count": null,
   "metadata": {},
   "outputs": [],
   "source": [
    "telegram_input_file = '/Users/jatavathpavannaik/Documents/python/SMA/AP_Year_Report/data/TDP_All_Messages_Telegram_01_Feb.json'\n",
    "\n",
    "Telegram_output_file = '/Users/jatavathpavannaik/Documents/python/SMA/AP_Year_Report/Telegram/Hashtag_Data_Date.xlsx'\n",
    "\n",
    "telegram = Telegram(telegram_input_file, Telegram_output_file, start_date, end_date)\n",
    "telegram.run_telegram_analysis()"
   ]
  },
  {
   "cell_type": "code",
   "execution_count": null,
   "metadata": {},
   "outputs": [],
   "source": [
    "hashtag_list=[\n",
    "    \"#HelloAPByeByeYCP\",\n",
    "    \"#JanaSenaParty\",\n",
    "    \"#PawanKalyan\",\n",
    "    \"#HelloAP_ByeByeYCP\",\n",
    "    \"#janasenaforbettersociety\",\n",
    "    \"#JanasenaVeeraMahila\",\n",
    "    \"#JanasenaTDPAlliance\",\n",
    "    \"#helloap_voteforjanasena\",\n",
    "    \"#HelloAP_VoteForTDPJanaSena\",\n",
    "    \"#HelloApWelcomeJSP\",\n",
    "    \"#voteforglass\",\n",
    "    \"#varahivijayayatra\",\n",
    "    \"#TDPJSPTogether\",\n",
    "    \"#JSPForNewAgePolitics\",\n",
    "    \"#420Jagan\",\n",
    "    \"#jspforchange\",\n",
    "    \"#BELIEVE SENANI\",\n",
    "    \"#APHOPEJSP\",\n",
    "    \"#APCMPAWAN\",\n",
    "    \"#jagancantstoppawan\",\n",
    "    \"#WeStandwithJanasenani\",\n",
    "    \"#జైజనసేన\"\n",
    "]"
   ]
  },
  {
   "cell_type": "markdown",
   "metadata": {},
   "source": [
    "#### Youtube"
   ]
  },
  {
   "cell_type": "code",
   "execution_count": null,
   "metadata": {},
   "outputs": [],
   "source": [
    "youtube_metric_file=\"/Users/jatavathpavannaik/Documents/python/SMA/AP_Year_Report/AP_JSP_15_31_Jan_2024_Metric.xlsx\"\n",
    "\n",
    "youtube_ouput=\"/Users/jatavathpavannaik/Documents/python/SMA/AP_Year_Report/Youtube/Youtube_Metrics_date.xlsx\"\n",
    "\n",
    "Yt=Youtube(youtube_metric_file,youtube_ouput,start_date,end_date,hashtag_list)\n",
    "Yt.run_Youtube_analysis()"
   ]
  },
  {
   "cell_type": "markdown",
   "metadata": {},
   "source": [
    "#### Instagram"
   ]
  },
  {
   "cell_type": "code",
   "execution_count": null,
   "metadata": {},
   "outputs": [],
   "source": [
    "har_file_path=\"/Users/jatavathpavannaik/Documents/python/SMA/AP_Year_Report/Janasena_all_Hashtag_16thJan_31stJan.har\"\n",
    "instaloader_path=\"/Users/jatavathpavannaik/Documents/python/SMA/AP_Year_Report/hashtag_analysis_jsp_20240212.csv\"\n",
    "\n",
    "Instagram_output='/Users/jatavathpavannaik/Documents/python/SMA/AP_Year_Report/Instagram/Instagram_analysis_Date.xlsx'\n",
    "\n",
    "In=Instagram(har_file_path,instaloader_path,Instagram_output,start_date,end_date,hashtag_list)\n",
    "In.run_instagram_analysis()"
   ]
  }
 ],
 "metadata": {
  "kernelspec": {
   "display_name": "base",
   "language": "python",
   "name": "python3"
  },
  "language_info": {
   "codemirror_mode": {
    "name": "ipython",
    "version": 3
   },
   "file_extension": ".py",
   "mimetype": "text/x-python",
   "name": "python",
   "nbconvert_exporter": "python",
   "pygments_lexer": "ipython3",
   "version": "3.11.0"
  },
  "orig_nbformat": 4
 },
 "nbformat": 4,
 "nbformat_minor": 2
}
